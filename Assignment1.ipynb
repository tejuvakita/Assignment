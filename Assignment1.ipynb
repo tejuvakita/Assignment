
----------------------------
for i in range (2000,3000):
    if(i%7==0 and not(i%5==0)):
        print(i,end=",")
----------------------------------
first=input("Enter first name")
last=input("Enter last name")
print(last+" "+first)
----------------------------------
pi=22/7
d=12
r=d/2
Volume=(4.0/3.0)*pi*(r**3)
print("Volume of Sphere =",Volume)